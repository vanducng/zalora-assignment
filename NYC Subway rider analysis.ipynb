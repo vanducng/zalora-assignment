{
 "cells": [
  {
   "cell_type": "code",
   "execution_count": 275,
   "metadata": {},
   "outputs": [],
   "source": [
    "import datetime\n",
    "import numpy as np\n",
    "import pandas as pd\n",
    "\n",
    "import matplotlib.pyplot as plt\n",
    "%matplotlib inline\n",
    "plt.rcParams.update({'figure.figsize':(7,5), 'figure.dpi':100})\n",
    "\n",
    "pd.set_option('display.max_rows', 500)\n",
    "pd.set_option('display.max_columns', 500)\n",
    "pd.set_option('display.width', 1000)"
   ]
  },
  {
   "cell_type": "markdown",
   "metadata": {},
   "source": [
    "## NYC Subway ridership impacted by weather analysis\n",
    "### Overview and goal\n",
    "This notebook document the steps of exploring provided dataset subway data set of NYC. This data set records statistics of NYC subway riders in different weather conditions in May 2011. From the dataset, we can see the entry and exit times on 4-hourly basic.\n",
    "By exploring the dataset, we hope that can anwser some questions like:\n",
    "    1. How busy categorized by day in a week?\n",
    "    2. How rainy day impact on ridership?\n",
    "    3. How correlation between rain and other weather conditions (fog, pressure, precipitation, temperature)"
   ]
  },
  {
   "cell_type": "markdown",
   "metadata": {},
   "source": [
    "### Dataset quicklook\n",
    "Here is some notes about the dataset:\n",
    "    - Data is collected in 31 days in May\n",
    "    - Data is sampled at 4-hourly basic 0, 4, 8, 12, 16, 20\n",
    "    - Week days are labeled as 0, 1, 2, 3, 4 (Monday -> Friday), while weekend days are 5, 6 (Saturday & Sunday)\n",
    "    - There are total 207 different stations in NYC which is so many\n",
    "    - Weather conditions are classified under 12 different conditions\n",
    "    "
   ]
  },
  {
   "cell_type": "code",
   "execution_count": 152,
   "metadata": {},
   "outputs": [
    {
     "name": "stdout",
     "output_type": "stream",
     "text": [
      "<class 'pandas.core.frame.DataFrame'>\n",
      "RangeIndex: 42649 entries, 0 to 42648\n",
      "Data columns (total 27 columns):\n",
      "UNIT               42649 non-null object\n",
      "DATEn              42649 non-null object\n",
      "TIMEn              42649 non-null object\n",
      "ENTRIESn           42649 non-null int64\n",
      "EXITSn             42649 non-null int64\n",
      "ENTRIESn_hourly    42649 non-null float64\n",
      "EXITSn_hourly      42649 non-null float64\n",
      "datetime           42649 non-null object\n",
      "hour               42649 non-null int64\n",
      "day_week           42649 non-null int64\n",
      "weekday            42649 non-null int64\n",
      "station            42649 non-null object\n",
      "latitude           42649 non-null float64\n",
      "longitude          42649 non-null float64\n",
      "conds              42649 non-null object\n",
      "fog                42649 non-null int64\n",
      "precipi            42649 non-null float64\n",
      "pressurei          42649 non-null float64\n",
      "rain               42649 non-null int64\n",
      "tempi              42649 non-null float64\n",
      "wspdi              42649 non-null float64\n",
      "meanprecipi        42649 non-null float64\n",
      "meanpressurei      42649 non-null float64\n",
      "meantempi          42649 non-null float64\n",
      "meanwspdi          42649 non-null float64\n",
      "weather_lat        42649 non-null float64\n",
      "weather_lon        42649 non-null float64\n",
      "dtypes: float64(14), int64(7), object(6)\n",
      "memory usage: 8.8+ MB\n"
     ]
    }
   ],
   "source": [
    "df = pd.read_csv(\"nyc_subway.csv\")\n",
    "df.info()"
   ]
  },
  {
   "cell_type": "code",
   "execution_count": 148,
   "metadata": {},
   "outputs": [
    {
     "data": {
      "text/html": [
       "<div>\n",
       "<style scoped>\n",
       "    .dataframe tbody tr th:only-of-type {\n",
       "        vertical-align: middle;\n",
       "    }\n",
       "\n",
       "    .dataframe tbody tr th {\n",
       "        vertical-align: top;\n",
       "    }\n",
       "\n",
       "    .dataframe thead th {\n",
       "        text-align: right;\n",
       "    }\n",
       "</style>\n",
       "<table border=\"1\" class=\"dataframe\">\n",
       "  <thead>\n",
       "    <tr style=\"text-align: right;\">\n",
       "      <th></th>\n",
       "      <th>UNIT</th>\n",
       "      <th>DATEn</th>\n",
       "      <th>TIMEn</th>\n",
       "      <th>ENTRIESn</th>\n",
       "      <th>EXITSn</th>\n",
       "      <th>ENTRIESn_hourly</th>\n",
       "      <th>EXITSn_hourly</th>\n",
       "      <th>datetime</th>\n",
       "      <th>hour</th>\n",
       "      <th>day_week</th>\n",
       "      <th>weekday</th>\n",
       "      <th>station</th>\n",
       "      <th>latitude</th>\n",
       "      <th>longitude</th>\n",
       "      <th>conds</th>\n",
       "      <th>fog</th>\n",
       "      <th>precipi</th>\n",
       "      <th>pressurei</th>\n",
       "      <th>rain</th>\n",
       "      <th>tempi</th>\n",
       "      <th>wspdi</th>\n",
       "      <th>meanprecipi</th>\n",
       "      <th>meanpressurei</th>\n",
       "      <th>meantempi</th>\n",
       "      <th>meanwspdi</th>\n",
       "      <th>weather_lat</th>\n",
       "      <th>weather_lon</th>\n",
       "    </tr>\n",
       "  </thead>\n",
       "  <tbody>\n",
       "    <tr>\n",
       "      <th>count</th>\n",
       "      <td>42649</td>\n",
       "      <td>42649</td>\n",
       "      <td>42649</td>\n",
       "      <td>4.264900e+04</td>\n",
       "      <td>4.264900e+04</td>\n",
       "      <td>42649.000000</td>\n",
       "      <td>42649.000000</td>\n",
       "      <td>42649</td>\n",
       "      <td>42649.000000</td>\n",
       "      <td>42649.000000</td>\n",
       "      <td>42649.000000</td>\n",
       "      <td>42649</td>\n",
       "      <td>42649.000000</td>\n",
       "      <td>42649.000000</td>\n",
       "      <td>42649</td>\n",
       "      <td>42649.000000</td>\n",
       "      <td>42649.000000</td>\n",
       "      <td>42649.000000</td>\n",
       "      <td>42649.000000</td>\n",
       "      <td>42649.000000</td>\n",
       "      <td>42649.000000</td>\n",
       "      <td>42649.000000</td>\n",
       "      <td>42649.000000</td>\n",
       "      <td>42649.000000</td>\n",
       "      <td>42649.000000</td>\n",
       "      <td>42649.000000</td>\n",
       "      <td>42649.000000</td>\n",
       "    </tr>\n",
       "    <tr>\n",
       "      <th>unique</th>\n",
       "      <td>240</td>\n",
       "      <td>31</td>\n",
       "      <td>6</td>\n",
       "      <td>NaN</td>\n",
       "      <td>NaN</td>\n",
       "      <td>NaN</td>\n",
       "      <td>NaN</td>\n",
       "      <td>186</td>\n",
       "      <td>NaN</td>\n",
       "      <td>NaN</td>\n",
       "      <td>NaN</td>\n",
       "      <td>207</td>\n",
       "      <td>NaN</td>\n",
       "      <td>NaN</td>\n",
       "      <td>12</td>\n",
       "      <td>NaN</td>\n",
       "      <td>NaN</td>\n",
       "      <td>NaN</td>\n",
       "      <td>NaN</td>\n",
       "      <td>NaN</td>\n",
       "      <td>NaN</td>\n",
       "      <td>NaN</td>\n",
       "      <td>NaN</td>\n",
       "      <td>NaN</td>\n",
       "      <td>NaN</td>\n",
       "      <td>NaN</td>\n",
       "      <td>NaN</td>\n",
       "    </tr>\n",
       "    <tr>\n",
       "      <th>top</th>\n",
       "      <td>R098</td>\n",
       "      <td>05-17-11</td>\n",
       "      <td>04:00:00</td>\n",
       "      <td>NaN</td>\n",
       "      <td>NaN</td>\n",
       "      <td>NaN</td>\n",
       "      <td>NaN</td>\n",
       "      <td>2011-05-30 20:00:00</td>\n",
       "      <td>NaN</td>\n",
       "      <td>NaN</td>\n",
       "      <td>NaN</td>\n",
       "      <td>34 ST-PENN STA</td>\n",
       "      <td>NaN</td>\n",
       "      <td>NaN</td>\n",
       "      <td>Clear</td>\n",
       "      <td>NaN</td>\n",
       "      <td>NaN</td>\n",
       "      <td>NaN</td>\n",
       "      <td>NaN</td>\n",
       "      <td>NaN</td>\n",
       "      <td>NaN</td>\n",
       "      <td>NaN</td>\n",
       "      <td>NaN</td>\n",
       "      <td>NaN</td>\n",
       "      <td>NaN</td>\n",
       "      <td>NaN</td>\n",
       "      <td>NaN</td>\n",
       "    </tr>\n",
       "    <tr>\n",
       "      <th>freq</th>\n",
       "      <td>186</td>\n",
       "      <td>1417</td>\n",
       "      <td>7381</td>\n",
       "      <td>NaN</td>\n",
       "      <td>NaN</td>\n",
       "      <td>NaN</td>\n",
       "      <td>NaN</td>\n",
       "      <td>240</td>\n",
       "      <td>NaN</td>\n",
       "      <td>NaN</td>\n",
       "      <td>NaN</td>\n",
       "      <td>558</td>\n",
       "      <td>NaN</td>\n",
       "      <td>NaN</td>\n",
       "      <td>13594</td>\n",
       "      <td>NaN</td>\n",
       "      <td>NaN</td>\n",
       "      <td>NaN</td>\n",
       "      <td>NaN</td>\n",
       "      <td>NaN</td>\n",
       "      <td>NaN</td>\n",
       "      <td>NaN</td>\n",
       "      <td>NaN</td>\n",
       "      <td>NaN</td>\n",
       "      <td>NaN</td>\n",
       "      <td>NaN</td>\n",
       "      <td>NaN</td>\n",
       "    </tr>\n",
       "    <tr>\n",
       "      <th>mean</th>\n",
       "      <td>NaN</td>\n",
       "      <td>NaN</td>\n",
       "      <td>NaN</td>\n",
       "      <td>2.812486e+07</td>\n",
       "      <td>1.986993e+07</td>\n",
       "      <td>1886.589955</td>\n",
       "      <td>1361.487866</td>\n",
       "      <td>NaN</td>\n",
       "      <td>10.046754</td>\n",
       "      <td>2.905719</td>\n",
       "      <td>0.714436</td>\n",
       "      <td>NaN</td>\n",
       "      <td>40.724647</td>\n",
       "      <td>-73.940364</td>\n",
       "      <td>NaN</td>\n",
       "      <td>0.009824</td>\n",
       "      <td>0.004618</td>\n",
       "      <td>29.971096</td>\n",
       "      <td>0.224741</td>\n",
       "      <td>63.103780</td>\n",
       "      <td>6.927872</td>\n",
       "      <td>0.004618</td>\n",
       "      <td>29.971096</td>\n",
       "      <td>63.103780</td>\n",
       "      <td>6.927872</td>\n",
       "      <td>40.728555</td>\n",
       "      <td>-73.938693</td>\n",
       "    </tr>\n",
       "    <tr>\n",
       "      <th>std</th>\n",
       "      <td>NaN</td>\n",
       "      <td>NaN</td>\n",
       "      <td>NaN</td>\n",
       "      <td>3.043607e+07</td>\n",
       "      <td>2.028986e+07</td>\n",
       "      <td>2952.385585</td>\n",
       "      <td>2183.845409</td>\n",
       "      <td>NaN</td>\n",
       "      <td>6.938928</td>\n",
       "      <td>2.079231</td>\n",
       "      <td>0.451688</td>\n",
       "      <td>NaN</td>\n",
       "      <td>0.071650</td>\n",
       "      <td>0.059713</td>\n",
       "      <td>NaN</td>\n",
       "      <td>0.098631</td>\n",
       "      <td>0.025832</td>\n",
       "      <td>0.137942</td>\n",
       "      <td>0.417417</td>\n",
       "      <td>8.455597</td>\n",
       "      <td>4.510178</td>\n",
       "      <td>0.016344</td>\n",
       "      <td>0.131158</td>\n",
       "      <td>6.939011</td>\n",
       "      <td>3.179832</td>\n",
       "      <td>0.065420</td>\n",
       "      <td>0.059582</td>\n",
       "    </tr>\n",
       "    <tr>\n",
       "      <th>min</th>\n",
       "      <td>NaN</td>\n",
       "      <td>NaN</td>\n",
       "      <td>NaN</td>\n",
       "      <td>0.000000e+00</td>\n",
       "      <td>0.000000e+00</td>\n",
       "      <td>0.000000</td>\n",
       "      <td>0.000000</td>\n",
       "      <td>NaN</td>\n",
       "      <td>0.000000</td>\n",
       "      <td>0.000000</td>\n",
       "      <td>0.000000</td>\n",
       "      <td>NaN</td>\n",
       "      <td>40.576152</td>\n",
       "      <td>-74.073622</td>\n",
       "      <td>NaN</td>\n",
       "      <td>0.000000</td>\n",
       "      <td>0.000000</td>\n",
       "      <td>29.550000</td>\n",
       "      <td>0.000000</td>\n",
       "      <td>46.900000</td>\n",
       "      <td>0.000000</td>\n",
       "      <td>0.000000</td>\n",
       "      <td>29.590000</td>\n",
       "      <td>49.400000</td>\n",
       "      <td>0.000000</td>\n",
       "      <td>40.600204</td>\n",
       "      <td>-74.014870</td>\n",
       "    </tr>\n",
       "    <tr>\n",
       "      <th>25%</th>\n",
       "      <td>NaN</td>\n",
       "      <td>NaN</td>\n",
       "      <td>NaN</td>\n",
       "      <td>1.039762e+07</td>\n",
       "      <td>7.613712e+06</td>\n",
       "      <td>274.000000</td>\n",
       "      <td>237.000000</td>\n",
       "      <td>NaN</td>\n",
       "      <td>4.000000</td>\n",
       "      <td>1.000000</td>\n",
       "      <td>0.000000</td>\n",
       "      <td>NaN</td>\n",
       "      <td>40.677107</td>\n",
       "      <td>-73.987342</td>\n",
       "      <td>NaN</td>\n",
       "      <td>0.000000</td>\n",
       "      <td>0.000000</td>\n",
       "      <td>29.890000</td>\n",
       "      <td>0.000000</td>\n",
       "      <td>57.000000</td>\n",
       "      <td>4.600000</td>\n",
       "      <td>0.000000</td>\n",
       "      <td>29.913333</td>\n",
       "      <td>58.283333</td>\n",
       "      <td>4.816667</td>\n",
       "      <td>40.688591</td>\n",
       "      <td>-73.985130</td>\n",
       "    </tr>\n",
       "    <tr>\n",
       "      <th>50%</th>\n",
       "      <td>NaN</td>\n",
       "      <td>NaN</td>\n",
       "      <td>NaN</td>\n",
       "      <td>1.818389e+07</td>\n",
       "      <td>1.331609e+07</td>\n",
       "      <td>905.000000</td>\n",
       "      <td>664.000000</td>\n",
       "      <td>NaN</td>\n",
       "      <td>12.000000</td>\n",
       "      <td>3.000000</td>\n",
       "      <td>1.000000</td>\n",
       "      <td>NaN</td>\n",
       "      <td>40.717241</td>\n",
       "      <td>-73.953459</td>\n",
       "      <td>NaN</td>\n",
       "      <td>0.000000</td>\n",
       "      <td>0.000000</td>\n",
       "      <td>29.960000</td>\n",
       "      <td>0.000000</td>\n",
       "      <td>61.000000</td>\n",
       "      <td>6.900000</td>\n",
       "      <td>0.000000</td>\n",
       "      <td>29.958000</td>\n",
       "      <td>60.950000</td>\n",
       "      <td>6.166667</td>\n",
       "      <td>40.720570</td>\n",
       "      <td>-73.949150</td>\n",
       "    </tr>\n",
       "    <tr>\n",
       "      <th>75%</th>\n",
       "      <td>NaN</td>\n",
       "      <td>NaN</td>\n",
       "      <td>NaN</td>\n",
       "      <td>3.263049e+07</td>\n",
       "      <td>2.393771e+07</td>\n",
       "      <td>2255.000000</td>\n",
       "      <td>1537.000000</td>\n",
       "      <td>NaN</td>\n",
       "      <td>16.000000</td>\n",
       "      <td>5.000000</td>\n",
       "      <td>1.000000</td>\n",
       "      <td>NaN</td>\n",
       "      <td>40.759123</td>\n",
       "      <td>-73.907733</td>\n",
       "      <td>NaN</td>\n",
       "      <td>0.000000</td>\n",
       "      <td>0.000000</td>\n",
       "      <td>30.060000</td>\n",
       "      <td>0.000000</td>\n",
       "      <td>69.100000</td>\n",
       "      <td>9.200000</td>\n",
       "      <td>0.000000</td>\n",
       "      <td>30.060000</td>\n",
       "      <td>67.466667</td>\n",
       "      <td>8.850000</td>\n",
       "      <td>40.755226</td>\n",
       "      <td>-73.912033</td>\n",
       "    </tr>\n",
       "    <tr>\n",
       "      <th>max</th>\n",
       "      <td>NaN</td>\n",
       "      <td>NaN</td>\n",
       "      <td>NaN</td>\n",
       "      <td>2.357746e+08</td>\n",
       "      <td>1.493782e+08</td>\n",
       "      <td>32814.000000</td>\n",
       "      <td>34828.000000</td>\n",
       "      <td>NaN</td>\n",
       "      <td>20.000000</td>\n",
       "      <td>6.000000</td>\n",
       "      <td>1.000000</td>\n",
       "      <td>NaN</td>\n",
       "      <td>40.889185</td>\n",
       "      <td>-73.755383</td>\n",
       "      <td>NaN</td>\n",
       "      <td>1.000000</td>\n",
       "      <td>0.300000</td>\n",
       "      <td>30.320000</td>\n",
       "      <td>1.000000</td>\n",
       "      <td>86.000000</td>\n",
       "      <td>23.000000</td>\n",
       "      <td>0.157500</td>\n",
       "      <td>30.293333</td>\n",
       "      <td>79.800000</td>\n",
       "      <td>17.083333</td>\n",
       "      <td>40.862064</td>\n",
       "      <td>-73.694176</td>\n",
       "    </tr>\n",
       "  </tbody>\n",
       "</table>\n",
       "</div>"
      ],
      "text/plain": [
       "         UNIT     DATEn     TIMEn      ENTRIESn        EXITSn  ENTRIESn_hourly  EXITSn_hourly             datetime          hour      day_week       weekday         station      latitude     longitude  conds           fog       precipi     pressurei          rain         tempi         wspdi   meanprecipi  meanpressurei     meantempi     meanwspdi   weather_lat   weather_lon\n",
       "count   42649     42649     42649  4.264900e+04  4.264900e+04     42649.000000   42649.000000                42649  42649.000000  42649.000000  42649.000000           42649  42649.000000  42649.000000  42649  42649.000000  42649.000000  42649.000000  42649.000000  42649.000000  42649.000000  42649.000000   42649.000000  42649.000000  42649.000000  42649.000000  42649.000000\n",
       "unique    240        31         6           NaN           NaN              NaN            NaN                  186           NaN           NaN           NaN             207           NaN           NaN     12           NaN           NaN           NaN           NaN           NaN           NaN           NaN            NaN           NaN           NaN           NaN           NaN\n",
       "top      R098  05-17-11  04:00:00           NaN           NaN              NaN            NaN  2011-05-30 20:00:00           NaN           NaN           NaN  34 ST-PENN STA           NaN           NaN  Clear           NaN           NaN           NaN           NaN           NaN           NaN           NaN            NaN           NaN           NaN           NaN           NaN\n",
       "freq      186      1417      7381           NaN           NaN              NaN            NaN                  240           NaN           NaN           NaN             558           NaN           NaN  13594           NaN           NaN           NaN           NaN           NaN           NaN           NaN            NaN           NaN           NaN           NaN           NaN\n",
       "mean      NaN       NaN       NaN  2.812486e+07  1.986993e+07      1886.589955    1361.487866                  NaN     10.046754      2.905719      0.714436             NaN     40.724647    -73.940364    NaN      0.009824      0.004618     29.971096      0.224741     63.103780      6.927872      0.004618      29.971096     63.103780      6.927872     40.728555    -73.938693\n",
       "std       NaN       NaN       NaN  3.043607e+07  2.028986e+07      2952.385585    2183.845409                  NaN      6.938928      2.079231      0.451688             NaN      0.071650      0.059713    NaN      0.098631      0.025832      0.137942      0.417417      8.455597      4.510178      0.016344       0.131158      6.939011      3.179832      0.065420      0.059582\n",
       "min       NaN       NaN       NaN  0.000000e+00  0.000000e+00         0.000000       0.000000                  NaN      0.000000      0.000000      0.000000             NaN     40.576152    -74.073622    NaN      0.000000      0.000000     29.550000      0.000000     46.900000      0.000000      0.000000      29.590000     49.400000      0.000000     40.600204    -74.014870\n",
       "25%       NaN       NaN       NaN  1.039762e+07  7.613712e+06       274.000000     237.000000                  NaN      4.000000      1.000000      0.000000             NaN     40.677107    -73.987342    NaN      0.000000      0.000000     29.890000      0.000000     57.000000      4.600000      0.000000      29.913333     58.283333      4.816667     40.688591    -73.985130\n",
       "50%       NaN       NaN       NaN  1.818389e+07  1.331609e+07       905.000000     664.000000                  NaN     12.000000      3.000000      1.000000             NaN     40.717241    -73.953459    NaN      0.000000      0.000000     29.960000      0.000000     61.000000      6.900000      0.000000      29.958000     60.950000      6.166667     40.720570    -73.949150\n",
       "75%       NaN       NaN       NaN  3.263049e+07  2.393771e+07      2255.000000    1537.000000                  NaN     16.000000      5.000000      1.000000             NaN     40.759123    -73.907733    NaN      0.000000      0.000000     30.060000      0.000000     69.100000      9.200000      0.000000      30.060000     67.466667      8.850000     40.755226    -73.912033\n",
       "max       NaN       NaN       NaN  2.357746e+08  1.493782e+08     32814.000000   34828.000000                  NaN     20.000000      6.000000      1.000000             NaN     40.889185    -73.755383    NaN      1.000000      0.300000     30.320000      1.000000     86.000000     23.000000      0.157500      30.293333     79.800000     17.083333     40.862064    -73.694176"
      ]
     },
     "execution_count": 148,
     "metadata": {},
     "output_type": "execute_result"
    }
   ],
   "source": [
    "df.describe(include='all')"
   ]
  },
  {
   "attachments": {},
   "cell_type": "markdown",
   "metadata": {},
   "source": [
    "### How ridership is distributed within days of a week?\n",
    "There are 2 interesting points derived from data once visualize total entries/exits by day\n",
    "    1. People use subway much more in weekday (Mon -> Friday). It is understandable that they are going for work.\n",
    "    2. Total number of exits is less than total number of entries (supposed to be equal). Around 28-29% (weekday), 22-23% (weekend) of times not recorded at subway system. There is one potentital reason is that some people use emergency exit way instead of turnstile. Ref here: [Link](https://streeteasy.com/blog/nyc-subway-emergency-exit-can-i-use-it/)"
   ]
  },
  {
   "cell_type": "code",
   "execution_count": 208,
   "metadata": {},
   "outputs": [
    {
     "data": {
      "text/html": [
       "<div>\n",
       "<style scoped>\n",
       "    .dataframe tbody tr th:only-of-type {\n",
       "        vertical-align: middle;\n",
       "    }\n",
       "\n",
       "    .dataframe tbody tr th {\n",
       "        vertical-align: top;\n",
       "    }\n",
       "\n",
       "    .dataframe thead th {\n",
       "        text-align: right;\n",
       "    }\n",
       "</style>\n",
       "<table border=\"1\" class=\"dataframe\">\n",
       "  <thead>\n",
       "    <tr style=\"text-align: right;\">\n",
       "      <th></th>\n",
       "      <th></th>\n",
       "      <th>ENTRIESn_hourly</th>\n",
       "      <th>EXITSn_hourly</th>\n",
       "      <th>diff_percentage</th>\n",
       "    </tr>\n",
       "    <tr>\n",
       "      <th>weekday</th>\n",
       "      <th>day_week</th>\n",
       "      <th></th>\n",
       "      <th></th>\n",
       "      <th></th>\n",
       "    </tr>\n",
       "  </thead>\n",
       "  <tbody>\n",
       "    <tr>\n",
       "      <th rowspan=\"2\" valign=\"top\">0</th>\n",
       "      <th>5</th>\n",
       "      <td>7486907.0</td>\n",
       "      <td>5695482.0</td>\n",
       "      <td>23.927438</td>\n",
       "    </tr>\n",
       "    <tr>\n",
       "      <th>6</th>\n",
       "      <td>7218706.0</td>\n",
       "      <td>5596828.0</td>\n",
       "      <td>22.467711</td>\n",
       "    </tr>\n",
       "    <tr>\n",
       "      <th rowspan=\"5\" valign=\"top\">1</th>\n",
       "      <th>0</th>\n",
       "      <td>12795107.0</td>\n",
       "      <td>9141366.0</td>\n",
       "      <td>28.555767</td>\n",
       "    </tr>\n",
       "    <tr>\n",
       "      <th>1</th>\n",
       "      <td>15246943.0</td>\n",
       "      <td>10830056.0</td>\n",
       "      <td>28.969001</td>\n",
       "    </tr>\n",
       "    <tr>\n",
       "      <th>2</th>\n",
       "      <td>12592691.0</td>\n",
       "      <td>8978552.0</td>\n",
       "      <td>28.700291</td>\n",
       "    </tr>\n",
       "    <tr>\n",
       "      <th>3</th>\n",
       "      <td>12709142.0</td>\n",
       "      <td>8988618.0</td>\n",
       "      <td>29.274392</td>\n",
       "    </tr>\n",
       "    <tr>\n",
       "      <th>4</th>\n",
       "      <td>12411679.0</td>\n",
       "      <td>8835194.0</td>\n",
       "      <td>28.815481</td>\n",
       "    </tr>\n",
       "  </tbody>\n",
       "</table>\n",
       "</div>"
      ],
      "text/plain": [
       "                  ENTRIESn_hourly  EXITSn_hourly  diff_percentage\n",
       "weekday day_week                                                 \n",
       "0       5               7486907.0      5695482.0        23.927438\n",
       "        6               7218706.0      5596828.0        22.467711\n",
       "1       0              12795107.0      9141366.0        28.555767\n",
       "        1              15246943.0     10830056.0        28.969001\n",
       "        2              12592691.0      8978552.0        28.700291\n",
       "        3              12709142.0      8988618.0        29.274392\n",
       "        4              12411679.0      8835194.0        28.815481"
      ]
     },
     "execution_count": 208,
     "metadata": {},
     "output_type": "execute_result"
    }
   ],
   "source": [
    "# Build the dataframe that group by weekday, day of week to see the differences of check points during entry and exit at subway station\n",
    "df_weekday = df.groupby(['weekday', 'day_week']).sum()[[\"ENTRIESn_hourly\", \"EXITSn_hourly\"]]\n",
    "df_weekday[\"diff_percentage\"] = 100* (df_weekday[\"ENTRIESn_hourly\"] - df_weekday[\"EXITSn_hourly\"])/df_weekday[\"ENTRIESn_hourly\"]\n",
    "df_weekday"
   ]
  },
  {
   "cell_type": "markdown",
   "metadata": {},
   "source": [
    "EXITSn_hourly always less than ENTRIESn_hourly with more 20% difference. Since there is potential of reason that people use emergency exit instead of turnstile,the following analysis of weather impact to ridership will take ENTRIEm_hourly data for better reliability."
   ]
  },
  {
   "cell_type": "code",
   "execution_count": 209,
   "metadata": {},
   "outputs": [
    {
     "data": {
      "image/png": "[encoded data removed]",
      "text/plain": [
       "<Figure size 700x500 with 1 Axes>"
      ]
     },
     "metadata": {
      "needs_background": "light"
     },
     "output_type": "display_data"
    }
   ],
   "source": [
    "# Plot the entries/exits times plotted by days\n",
    "day_riders = df.groupby('day_week').sum()\n",
    "\n",
    "p1 = plt.bar(day_riders.index.values, day_riders[\"ENTRIESn_hourly\"].values)\n",
    "p2 = plt.bar(day_riders.index.values, day_riders[\"EXITSn_hourly\"].values, bottom=day_riders[\"ENTRIESn_hourly\"].values)\n",
    "\n",
    "plt.xticks(range(7), (\"Mon\", \"Tue\", \"Wed\", \"Thur\", \"Fri\", \"Sat\", \"Sun\"))\n",
    "plt.ylabel(\"Total Entries/Exits\")\n",
    "plt.xlabel(\"Days\")\n",
    "plt.title(\"Entries/Exits by day\")\n",
    "plt.legend((p1[0], p2[0]), (\"ENTRIESn_hourly\", \"EXITSn_hourly\"))\n",
    "\n",
    "plt.show()"
   ]
  },
  {
   "cell_type": "code",
   "execution_count": 294,
   "metadata": {},
   "outputs": [
    {
     "data": {
      "image/png": "[encoded data removed]",
      "text/plain": [
       "<Figure size 800x400 with 1 Axes>"
      ]
     },
     "metadata": {
      "needs_background": "light"
     },
     "output_type": "display_data"
    }
   ],
   "source": [
    "# Plot the total entries by hour\n",
    "hour_riders = df.groupby('hour').sum()\n",
    "hour_riders[['ENTRIESn_hourly']].plot(kind='bar', legend=False, figsize=(8, 4), alpha=0.75)\n",
    "plt.title('Entries per Hour', {'fontsize':'xx-large'})\n",
    "plt.xlabel('hour')\n",
    "plt.ylabel('Total Entries')\n",
    "plt.show()"
   ]
  },
  {
   "cell_type": "markdown",
   "metadata": {},
   "source": [
    "People tend to use the subway more in weekday compared to weekend. And it is more crowded from 12h to 20h daily."
   ]
  },
  {
   "cell_type": "markdown",
   "metadata": {},
   "source": [
    "### Weather impact on ridership at NYC subway?\n",
    "In this experiment, we aims at looking for any correlation between weather condition with the ENTRIESn_hourly.\n",
    "\n",
    "- Summary:\n",
    "    + No strong correlation between precipitation, pressure, temperature, wspd with the demand of subway riders\n",
    "    + When it is raining, subway gets busier with more people using the subway\n",
    "    + The `precipi` variable can tells the high probability of rain"
   ]
  },
  {
   "cell_type": "code",
   "execution_count": 317,
   "metadata": {
    "scrolled": false
   },
   "outputs": [
    {
     "data": {
      "image/png": "[encoded data removed]",
      "text/plain": [
       "<Figure size 800x400 with 2 Axes>"
      ]
     },
     "metadata": {
      "needs_background": "light"
     },
     "output_type": "display_data"
    }
   ],
   "source": [
    "# To see the correlation between weather condition which is measured as continous variables (preci, pressure, temp and wspd)\n",
    "# the heat map is used to visualize resutl.\n",
    "# Based on the result, there is no strong signal for the correlation with ENTRIESn_hourly (biggest one is 0.036)\n",
    "f, ax = plt.subplots(figsize=(8, 4))\n",
    "sns.heatmap(df[[\"ENTRIESn_hourly\", \"precipi\", \"pressurei\", \"tempi\", \"wspdi\"]].corr(), vmax=1, vmin=-1, annot=True, ax=ax, linewidths=0.1)\n",
    "ax.set_ylim(5.0, 0)\n",
    "plt.show()"
   ]
  },
  {
   "cell_type": "code",
   "execution_count": 316,
   "metadata": {},
   "outputs": [
    {
     "data": {
      "image/png": "[encoded data removed]",
      "text/plain": [
       "<Figure size 700x500 with 1 Axes>"
      ]
     },
     "metadata": {
      "needs_background": "light"
     },
     "output_type": "display_data"
    }
   ],
   "source": [
    "# Check the distribution of total entries record in rainy and not rainy day\n",
    "rain = df[df['rain'] == 1]['ENTRIESn_hourly'].values\n",
    "no_rain = df[df['rain'] == 0]['ENTRIESn_hourly'].values\n",
    "plt.hist(no_rain, bins=50, color='b', alpha=0.5, label='Non-Rainy')\n",
    "plt.hist(rain, bins=50, color='r', alpha=0.5, label='Rainy')\n",
    "plt.title(\"Total entries not-nomalized\")\n",
    "plt.xlabel(\"Figure 1\")\n",
    "plt.legend()\n",
    "plt.show()"
   ]
  },
  {
   "cell_type": "code",
   "execution_count": 315,
   "metadata": {},
   "outputs": [
    {
     "data": {
      "image/png": "[encoded data removed]",
      "text/plain": [
       "<Figure size 700x500 with 1 Axes>"
      ]
     },
     "metadata": {
      "needs_background": "light"
     },
     "output_type": "display_data"
    }
   ],
   "source": [
    "# Check the distribution of total entries record in rainy and not rainy day\n",
    "rain = df[df['rain'] == 1]['ENTRIESn_hourly'].values\n",
    "no_rain = df[df['rain'] == 0]['ENTRIESn_hourly'].values\n",
    "plt.hist(no_rain, bins=30, color='b', alpha=0.5, label='Non-Rainy', density=True)\n",
    "plt.hist(rain, bins=30, color='r', alpha=0.5, label='Rainy', density=True)\n",
    "plt.title(\"Total entries nomalized\")\n",
    "plt.xlabel(\"Figure 2\")\n",
    "plt.legend()\n",
    "plt.show();"
   ]
  },
  {
   "cell_type": "markdown",
   "metadata": {},
   "source": [
    "Because number of non-rainy days is less than rainy then the plot clearly shows the frequency of total entries respectively for both cases (Figure 1). After normalized, we see that people tend to use subway in rainy day much more than non-rainy day (top 2 bin with biggest frequency of subway usage).\n",
    "\n",
    "\n",
    "To evaluate whether rainy day impacts to subway ridership, we need to conduct the statistical test. In this case, we use Mann-Whitney U-Test (https://en.wikipedia.org/wiki/Mann–Whitney_U_test).\n",
    "\n",
    "The significance level being used in this test is 0.05.\n",
    "    \n",
    "    𝐻0:𝑅𝑒𝑠𝑝𝑜𝑛𝑠𝑒 𝑎𝑛𝑑 𝑒𝑥𝑝𝑙𝑎𝑛𝑎𝑡𝑜𝑟𝑦 𝑣𝑎𝑟𝑖𝑎𝑏𝑙𝑒 𝑎𝑟𝑒 𝑖𝑛𝑑𝑒𝑝𝑒𝑛𝑑𝑒𝑛𝑡\n",
    "    𝐻𝑎:𝑅𝑒𝑠𝑝𝑜𝑛𝑠𝑒 𝑎𝑛𝑑 𝑒𝑥𝑝𝑙𝑎𝑛𝑎𝑡𝑜𝑟𝑦 𝑣𝑎𝑟𝑖𝑎𝑏𝑙𝑒 𝑎𝑟𝑒 𝑑𝑒𝑝𝑒𝑛𝑑𝑒𝑛𝑡"
   ]
  },
  {
   "cell_type": "code",
   "execution_count": 304,
   "metadata": {},
   "outputs": [
    {
     "name": "stdout",
     "output_type": "stream",
     "text": [
      "Mean entries, with rain: 2028.1960354720918\n",
      "Mean entries, without rain: 1845.5394386644084\n"
     ]
    }
   ],
   "source": [
    "# Mean calculation\n",
    "rain_mean = df[df['rain'] == 1]['ENTRIESn_hourly'].mean()\n",
    "norain_mean = df[df['rain'] == 0]['ENTRIESn_hourly'].mean()\n",
    "\n",
    "print(f\"Mean entries, with rain: {rain_mean}\\nMean entries, without rain: {norain_mean}\")"
   ]
  },
  {
   "cell_type": "code",
   "execution_count": 302,
   "metadata": {},
   "outputs": [
    {
     "name": "stdout",
     "output_type": "stream",
     "text": [
      "Mann-Whitney Test Statistic: 153635120.5\n",
      "p-Value: 2.7410695712437496e-06\n"
     ]
    }
   ],
   "source": [
    "[U, p] = scipy.stats.mannwhitneyu(df[df['rain'] == 1]['ENTRIESn_hourly'],df[df['rain'] == 0]['ENTRIESn_hourly'])\n",
    "\n",
    "print(f\"Mann-Whitney Test Statistic: {U}\\np-Value: {p}\")"
   ]
  },
  {
   "cell_type": "code",
   "execution_count": 303,
   "metadata": {},
   "outputs": [
    {
     "name": "stdout",
     "output_type": "stream",
     "text": [
      "Reject the null hypothesis\n"
     ]
    }
   ],
   "source": [
    "# Significance level.\n",
    "alpha = 0.05\n",
    "\n",
    "# Two-tailed test.\n",
    "if (p * 2) < alpha:\n",
    "    print(\"Reject the null hypothesis\")\n",
    "else:\n",
    "    print(\"Fail to reject null hypothesis\")"
   ]
  },
  {
   "cell_type": "markdown",
   "metadata": {},
   "source": [
    "The result shows that rainy and non-rainy day are dependent. In other words, raining impact to the subway usage where people tend to prefer using subway."
   ]
  },
  {
   "cell_type": "code",
   "execution_count": 318,
   "metadata": {
    "scrolled": false
   },
   "outputs": [
    {
     "data": {
      "image/png": "[encoded data removed]",
      "text/plain": [
       "<Figure size 1600x800 with 2 Axes>"
      ]
     },
     "metadata": {
      "needs_background": "light"
     },
     "output_type": "display_data"
    }
   ],
   "source": [
    "# Examine which parameter impact to rainy\n",
    "fig, axs = plt.subplots(ncols=2, sharex=True, figsize=(16, 8))\n",
    "sns.boxplot(x='rain', y='precipi', data=df, ax=axs[0], palette=\"Set3\")\n",
    "sns.boxplot(x='rain', y='fog', data=df, ax=axs[1], palette=\"Set3\")\n",
    "plt.show()"
   ]
  },
  {
   "cell_type": "markdown",
   "metadata": {},
   "source": [
    "We see `precipi` has direct impact to rainy, it's mostly rainy when `precipi` values is determine as bigger than 0."
   ]
  }
 ],
 "metadata": {
  "kernelspec": {
   "display_name": "Python 3",
   "language": "python",
   "name": "python3"
  },
  "language_info": {
   "codemirror_mode": {
    "name": "ipython",
    "version": 3
   },
   "file_extension": ".py",
   "mimetype": "text/x-python",
   "name": "python",
   "nbconvert_exporter": "python",
   "pygments_lexer": "ipython3",
   "version": "3.7.3"
  }
 },
 "nbformat": 4,
 "nbformat_minor": 2
}
